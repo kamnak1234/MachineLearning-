{
 "cells": [
  {
   "cell_type": "code",
   "execution_count": 1,
   "id": "2442c447",
   "metadata": {},
   "outputs": [],
   "source": [
    "import pandas as pd"
   ]
  },
  {
   "cell_type": "code",
   "execution_count": 2,
   "id": "1c97c759",
   "metadata": {},
   "outputs": [],
   "source": [
    "from sklearn import datasets\n",
    "cancer = datasets.load_breast_cancer()"
   ]
  },
  {
   "cell_type": "code",
   "execution_count": 3,
   "id": "a80de3b3",
   "metadata": {
    "scrolled": true
   },
   "outputs": [
    {
     "name": "stdout",
     "output_type": "stream",
     "text": [
      "{'data': array([[1.799e+01, 1.038e+01, 1.228e+02, ..., 2.654e-01, 4.601e-01,\n",
      "        1.189e-01],\n",
      "       [2.057e+01, 1.777e+01, 1.329e+02, ..., 1.860e-01, 2.750e-01,\n",
      "        8.902e-02],\n",
      "       [1.969e+01, 2.125e+01, 1.300e+02, ..., 2.430e-01, 3.613e-01,\n",
      "        8.758e-02],\n",
      "       ...,\n",
      "       [1.660e+01, 2.808e+01, 1.083e+02, ..., 1.418e-01, 2.218e-01,\n",
      "        7.820e-02],\n",
      "       [2.060e+01, 2.933e+01, 1.401e+02, ..., 2.650e-01, 4.087e-01,\n",
      "        1.240e-01],\n",
      "       [7.760e+00, 2.454e+01, 4.792e+01, ..., 0.000e+00, 2.871e-01,\n",
      "        7.039e-02]]), 'target': array([0, 0, 0, 0, 0, 0, 0, 0, 0, 0, 0, 0, 0, 0, 0, 0, 0, 0, 0, 1, 1, 1,\n",
      "       0, 0, 0, 0, 0, 0, 0, 0, 0, 0, 0, 0, 0, 0, 0, 1, 0, 0, 0, 0, 0, 0,\n",
      "       0, 0, 1, 0, 1, 1, 1, 1, 1, 0, 0, 1, 0, 0, 1, 1, 1, 1, 0, 1, 0, 0,\n",
      "       1, 1, 1, 1, 0, 1, 0, 0, 1, 0, 1, 0, 0, 1, 1, 1, 0, 0, 1, 0, 0, 0,\n",
      "       1, 1, 1, 0, 1, 1, 0, 0, 1, 1, 1, 0, 0, 1, 1, 1, 1, 0, 1, 1, 0, 1,\n",
      "       1, 1, 1, 1, 1, 1, 1, 0, 0, 0, 1, 0, 0, 1, 1, 1, 0, 0, 1, 0, 1, 0,\n",
      "       0, 1, 0, 0, 1, 1, 0, 1, 1, 0, 1, 1, 1, 1, 0, 1, 1, 1, 1, 1, 1, 1,\n",
      "       1, 1, 0, 1, 1, 1, 1, 0, 0, 1, 0, 1, 1, 0, 0, 1, 1, 0, 0, 1, 1, 1,\n",
      "       1, 0, 1, 1, 0, 0, 0, 1, 0, 1, 0, 1, 1, 1, 0, 1, 1, 0, 0, 1, 0, 0,\n",
      "       0, 0, 1, 0, 0, 0, 1, 0, 1, 0, 1, 1, 0, 1, 0, 0, 0, 0, 1, 1, 0, 0,\n",
      "       1, 1, 1, 0, 1, 1, 1, 1, 1, 0, 0, 1, 1, 0, 1, 1, 0, 0, 1, 0, 1, 1,\n",
      "       1, 1, 0, 1, 1, 1, 1, 1, 0, 1, 0, 0, 0, 0, 0, 0, 0, 0, 0, 0, 0, 0,\n",
      "       0, 0, 1, 1, 1, 1, 1, 1, 0, 1, 0, 1, 1, 0, 1, 1, 0, 1, 0, 0, 1, 1,\n",
      "       1, 1, 1, 1, 1, 1, 1, 1, 1, 1, 1, 0, 1, 1, 0, 1, 0, 1, 1, 1, 1, 1,\n",
      "       1, 1, 1, 1, 1, 1, 1, 1, 1, 0, 1, 1, 1, 0, 1, 0, 1, 1, 1, 1, 0, 0,\n",
      "       0, 1, 1, 1, 1, 0, 1, 0, 1, 0, 1, 1, 1, 0, 1, 1, 1, 1, 1, 1, 1, 0,\n",
      "       0, 0, 1, 1, 1, 1, 1, 1, 1, 1, 1, 1, 1, 0, 0, 1, 0, 0, 0, 1, 0, 0,\n",
      "       1, 1, 1, 1, 1, 0, 1, 1, 1, 1, 1, 0, 1, 1, 1, 0, 1, 1, 0, 0, 1, 1,\n",
      "       1, 1, 1, 1, 0, 1, 1, 1, 1, 1, 1, 1, 0, 1, 1, 1, 1, 1, 0, 1, 1, 0,\n",
      "       1, 1, 1, 1, 1, 1, 1, 1, 1, 1, 1, 1, 0, 1, 0, 0, 1, 0, 1, 1, 1, 1,\n",
      "       1, 0, 1, 1, 0, 1, 0, 1, 1, 0, 1, 0, 1, 1, 1, 1, 1, 1, 1, 1, 0, 0,\n",
      "       1, 1, 1, 1, 1, 1, 0, 1, 1, 1, 1, 1, 1, 1, 1, 1, 1, 0, 1, 1, 1, 1,\n",
      "       1, 1, 1, 0, 1, 0, 1, 1, 0, 1, 1, 1, 1, 1, 0, 0, 1, 0, 1, 0, 1, 1,\n",
      "       1, 1, 1, 0, 1, 1, 0, 1, 0, 1, 0, 0, 1, 1, 1, 0, 1, 1, 1, 1, 1, 1,\n",
      "       1, 1, 1, 1, 1, 0, 1, 0, 0, 1, 1, 1, 1, 1, 1, 1, 1, 1, 1, 1, 1, 1,\n",
      "       1, 1, 1, 1, 1, 1, 1, 1, 1, 1, 1, 1, 0, 0, 0, 0, 0, 0, 1]), 'frame': None, 'target_names': array(['malignant', 'benign'], dtype='<U9'), 'DESCR': '.. _breast_cancer_dataset:\\n\\nBreast cancer wisconsin (diagnostic) dataset\\n--------------------------------------------\\n\\n**Data Set Characteristics:**\\n\\n    :Number of Instances: 569\\n\\n    :Number of Attributes: 30 numeric, predictive attributes and the class\\n\\n    :Attribute Information:\\n        - radius (mean of distances from center to points on the perimeter)\\n        - texture (standard deviation of gray-scale values)\\n        - perimeter\\n        - area\\n        - smoothness (local variation in radius lengths)\\n        - compactness (perimeter^2 / area - 1.0)\\n        - concavity (severity of concave portions of the contour)\\n        - concave points (number of concave portions of the contour)\\n        - symmetry\\n        - fractal dimension (\"coastline approximation\" - 1)\\n\\n        The mean, standard error, and \"worst\" or largest (mean of the three\\n        worst/largest values) of these features were computed for each image,\\n        resulting in 30 features.  For instance, field 0 is Mean Radius, field\\n        10 is Radius SE, field 20 is Worst Radius.\\n\\n        - class:\\n                - WDBC-Malignant\\n                - WDBC-Benign\\n\\n    :Summary Statistics:\\n\\n    ===================================== ====== ======\\n                                           Min    Max\\n    ===================================== ====== ======\\n    radius (mean):                        6.981  28.11\\n    texture (mean):                       9.71   39.28\\n    perimeter (mean):                     43.79  188.5\\n    area (mean):                          143.5  2501.0\\n    smoothness (mean):                    0.053  0.163\\n    compactness (mean):                   0.019  0.345\\n    concavity (mean):                     0.0    0.427\\n    concave points (mean):                0.0    0.201\\n    symmetry (mean):                      0.106  0.304\\n    fractal dimension (mean):             0.05   0.097\\n    radius (standard error):              0.112  2.873\\n    texture (standard error):             0.36   4.885\\n    perimeter (standard error):           0.757  21.98\\n    area (standard error):                6.802  542.2\\n    smoothness (standard error):          0.002  0.031\\n    compactness (standard error):         0.002  0.135\\n    concavity (standard error):           0.0    0.396\\n    concave points (standard error):      0.0    0.053\\n    symmetry (standard error):            0.008  0.079\\n    fractal dimension (standard error):   0.001  0.03\\n    radius (worst):                       7.93   36.04\\n    texture (worst):                      12.02  49.54\\n    perimeter (worst):                    50.41  251.2\\n    area (worst):                         185.2  4254.0\\n    smoothness (worst):                   0.071  0.223\\n    compactness (worst):                  0.027  1.058\\n    concavity (worst):                    0.0    1.252\\n    concave points (worst):               0.0    0.291\\n    symmetry (worst):                     0.156  0.664\\n    fractal dimension (worst):            0.055  0.208\\n    ===================================== ====== ======\\n\\n    :Missing Attribute Values: None\\n\\n    :Class Distribution: 212 - Malignant, 357 - Benign\\n\\n    :Creator:  Dr. William H. Wolberg, W. Nick Street, Olvi L. Mangasarian\\n\\n    :Donor: Nick Street\\n\\n    :Date: November, 1995\\n\\nThis is a copy of UCI ML Breast Cancer Wisconsin (Diagnostic) datasets.\\nhttps://goo.gl/U2Uwz2\\n\\nFeatures are computed from a digitized image of a fine needle\\naspirate (FNA) of a breast mass.  They describe\\ncharacteristics of the cell nuclei present in the image.\\n\\nSeparating plane described above was obtained using\\nMultisurface Method-Tree (MSM-T) [K. P. Bennett, \"Decision Tree\\nConstruction Via Linear Programming.\" Proceedings of the 4th\\nMidwest Artificial Intelligence and Cognitive Science Society,\\npp. 97-101, 1992], a classification method which uses linear\\nprogramming to construct a decision tree.  Relevant features\\nwere selected using an exhaustive search in the space of 1-4\\nfeatures and 1-3 separating planes.\\n\\nThe actual linear program used to obtain the separating plane\\nin the 3-dimensional space is that described in:\\n[K. P. Bennett and O. L. Mangasarian: \"Robust Linear\\nProgramming Discrimination of Two Linearly Inseparable Sets\",\\nOptimization Methods and Software 1, 1992, 23-34].\\n\\nThis database is also available through the UW CS ftp server:\\n\\nftp ftp.cs.wisc.edu\\ncd math-prog/cpo-dataset/machine-learn/WDBC/\\n\\n.. topic:: References\\n\\n   - W.N. Street, W.H. Wolberg and O.L. Mangasarian. Nuclear feature extraction \\n     for breast tumor diagnosis. IS&T/SPIE 1993 International Symposium on \\n     Electronic Imaging: Science and Technology, volume 1905, pages 861-870,\\n     San Jose, CA, 1993.\\n   - O.L. Mangasarian, W.N. Street and W.H. Wolberg. Breast cancer diagnosis and \\n     prognosis via linear programming. Operations Research, 43(4), pages 570-577, \\n     July-August 1995.\\n   - W.H. Wolberg, W.N. Street, and O.L. Mangasarian. Machine learning techniques\\n     to diagnose breast cancer from fine-needle aspirates. Cancer Letters 77 (1994) \\n     163-171.', 'feature_names': array(['mean radius', 'mean texture', 'mean perimeter', 'mean area',\n",
      "       'mean smoothness', 'mean compactness', 'mean concavity',\n",
      "       'mean concave points', 'mean symmetry', 'mean fractal dimension',\n",
      "       'radius error', 'texture error', 'perimeter error', 'area error',\n",
      "       'smoothness error', 'compactness error', 'concavity error',\n",
      "       'concave points error', 'symmetry error',\n",
      "       'fractal dimension error', 'worst radius', 'worst texture',\n",
      "       'worst perimeter', 'worst area', 'worst smoothness',\n",
      "       'worst compactness', 'worst concavity', 'worst concave points',\n",
      "       'worst symmetry', 'worst fractal dimension'], dtype='<U23'), 'filename': 'C:\\\\Python\\\\Python38\\\\lib\\\\site-packages\\\\sklearn\\\\datasets\\\\data\\\\breast_cancer.csv'}\n"
     ]
    }
   ],
   "source": [
    "print(cancer)"
   ]
  },
  {
   "cell_type": "code",
   "execution_count": 4,
   "id": "bccedeaf",
   "metadata": {},
   "outputs": [],
   "source": [
    "wine = datasets.load_wine()"
   ]
  },
  {
   "cell_type": "code",
   "execution_count": 5,
   "id": "b1af862a",
   "metadata": {},
   "outputs": [
    {
     "data": {
      "text/plain": [
       "{'data': array([[1.423e+01, 1.710e+00, 2.430e+00, ..., 1.040e+00, 3.920e+00,\n",
       "         1.065e+03],\n",
       "        [1.320e+01, 1.780e+00, 2.140e+00, ..., 1.050e+00, 3.400e+00,\n",
       "         1.050e+03],\n",
       "        [1.316e+01, 2.360e+00, 2.670e+00, ..., 1.030e+00, 3.170e+00,\n",
       "         1.185e+03],\n",
       "        ...,\n",
       "        [1.327e+01, 4.280e+00, 2.260e+00, ..., 5.900e-01, 1.560e+00,\n",
       "         8.350e+02],\n",
       "        [1.317e+01, 2.590e+00, 2.370e+00, ..., 6.000e-01, 1.620e+00,\n",
       "         8.400e+02],\n",
       "        [1.413e+01, 4.100e+00, 2.740e+00, ..., 6.100e-01, 1.600e+00,\n",
       "         5.600e+02]]),\n",
       " 'target': array([0, 0, 0, 0, 0, 0, 0, 0, 0, 0, 0, 0, 0, 0, 0, 0, 0, 0, 0, 0, 0, 0,\n",
       "        0, 0, 0, 0, 0, 0, 0, 0, 0, 0, 0, 0, 0, 0, 0, 0, 0, 0, 0, 0, 0, 0,\n",
       "        0, 0, 0, 0, 0, 0, 0, 0, 0, 0, 0, 0, 0, 0, 0, 1, 1, 1, 1, 1, 1, 1,\n",
       "        1, 1, 1, 1, 1, 1, 1, 1, 1, 1, 1, 1, 1, 1, 1, 1, 1, 1, 1, 1, 1, 1,\n",
       "        1, 1, 1, 1, 1, 1, 1, 1, 1, 1, 1, 1, 1, 1, 1, 1, 1, 1, 1, 1, 1, 1,\n",
       "        1, 1, 1, 1, 1, 1, 1, 1, 1, 1, 1, 1, 1, 1, 1, 1, 1, 1, 1, 1, 2, 2,\n",
       "        2, 2, 2, 2, 2, 2, 2, 2, 2, 2, 2, 2, 2, 2, 2, 2, 2, 2, 2, 2, 2, 2,\n",
       "        2, 2, 2, 2, 2, 2, 2, 2, 2, 2, 2, 2, 2, 2, 2, 2, 2, 2, 2, 2, 2, 2,\n",
       "        2, 2]),\n",
       " 'frame': None,\n",
       " 'target_names': array(['class_0', 'class_1', 'class_2'], dtype='<U7'),\n",
       " 'DESCR': '.. _wine_dataset:\\n\\nWine recognition dataset\\n------------------------\\n\\n**Data Set Characteristics:**\\n\\n    :Number of Instances: 178 (50 in each of three classes)\\n    :Number of Attributes: 13 numeric, predictive attributes and the class\\n    :Attribute Information:\\n \\t\\t- Alcohol\\n \\t\\t- Malic acid\\n \\t\\t- Ash\\n\\t\\t- Alcalinity of ash  \\n \\t\\t- Magnesium\\n\\t\\t- Total phenols\\n \\t\\t- Flavanoids\\n \\t\\t- Nonflavanoid phenols\\n \\t\\t- Proanthocyanins\\n\\t\\t- Color intensity\\n \\t\\t- Hue\\n \\t\\t- OD280/OD315 of diluted wines\\n \\t\\t- Proline\\n\\n    - class:\\n            - class_0\\n            - class_1\\n            - class_2\\n\\t\\t\\n    :Summary Statistics:\\n    \\n    ============================= ==== ===== ======= =====\\n                                   Min   Max   Mean     SD\\n    ============================= ==== ===== ======= =====\\n    Alcohol:                      11.0  14.8    13.0   0.8\\n    Malic Acid:                   0.74  5.80    2.34  1.12\\n    Ash:                          1.36  3.23    2.36  0.27\\n    Alcalinity of Ash:            10.6  30.0    19.5   3.3\\n    Magnesium:                    70.0 162.0    99.7  14.3\\n    Total Phenols:                0.98  3.88    2.29  0.63\\n    Flavanoids:                   0.34  5.08    2.03  1.00\\n    Nonflavanoid Phenols:         0.13  0.66    0.36  0.12\\n    Proanthocyanins:              0.41  3.58    1.59  0.57\\n    Colour Intensity:              1.3  13.0     5.1   2.3\\n    Hue:                          0.48  1.71    0.96  0.23\\n    OD280/OD315 of diluted wines: 1.27  4.00    2.61  0.71\\n    Proline:                       278  1680     746   315\\n    ============================= ==== ===== ======= =====\\n\\n    :Missing Attribute Values: None\\n    :Class Distribution: class_0 (59), class_1 (71), class_2 (48)\\n    :Creator: R.A. Fisher\\n    :Donor: Michael Marshall (MARSHALL%PLU@io.arc.nasa.gov)\\n    :Date: July, 1988\\n\\nThis is a copy of UCI ML Wine recognition datasets.\\nhttps://archive.ics.uci.edu/ml/machine-learning-databases/wine/wine.data\\n\\nThe data is the results of a chemical analysis of wines grown in the same\\nregion in Italy by three different cultivators. There are thirteen different\\nmeasurements taken for different constituents found in the three types of\\nwine.\\n\\nOriginal Owners: \\n\\nForina, M. et al, PARVUS - \\nAn Extendible Package for Data Exploration, Classification and Correlation. \\nInstitute of Pharmaceutical and Food Analysis and Technologies,\\nVia Brigata Salerno, 16147 Genoa, Italy.\\n\\nCitation:\\n\\nLichman, M. (2013). UCI Machine Learning Repository\\n[https://archive.ics.uci.edu/ml]. Irvine, CA: University of California,\\nSchool of Information and Computer Science. \\n\\n.. topic:: References\\n\\n  (1) S. Aeberhard, D. Coomans and O. de Vel, \\n  Comparison of Classifiers in High Dimensional Settings, \\n  Tech. Rep. no. 92-02, (1992), Dept. of Computer Science and Dept. of  \\n  Mathematics and Statistics, James Cook University of North Queensland. \\n  (Also submitted to Technometrics). \\n\\n  The data was used with many others for comparing various \\n  classifiers. The classes are separable, though only RDA \\n  has achieved 100% correct classification. \\n  (RDA : 100%, QDA 99.4%, LDA 98.9%, 1NN 96.1% (z-transformed data)) \\n  (All results using the leave-one-out technique) \\n\\n  (2) S. Aeberhard, D. Coomans and O. de Vel, \\n  \"THE CLASSIFICATION PERFORMANCE OF RDA\" \\n  Tech. Rep. no. 92-01, (1992), Dept. of Computer Science and Dept. of \\n  Mathematics and Statistics, James Cook University of North Queensland. \\n  (Also submitted to Journal of Chemometrics).\\n',\n",
       " 'feature_names': ['alcohol',\n",
       "  'malic_acid',\n",
       "  'ash',\n",
       "  'alcalinity_of_ash',\n",
       "  'magnesium',\n",
       "  'total_phenols',\n",
       "  'flavanoids',\n",
       "  'nonflavanoid_phenols',\n",
       "  'proanthocyanins',\n",
       "  'color_intensity',\n",
       "  'hue',\n",
       "  'od280/od315_of_diluted_wines',\n",
       "  'proline']}"
      ]
     },
     "execution_count": 5,
     "metadata": {},
     "output_type": "execute_result"
    }
   ],
   "source": [
    "wine"
   ]
  },
  {
   "cell_type": "markdown",
   "id": "e5757dad",
   "metadata": {},
   "source": [
    "# Logistic Regression"
   ]
  },
  {
   "cell_type": "markdown",
   "id": "c6997ca5",
   "metadata": {},
   "source": [
    "1. Breast cancer"
   ]
  },
  {
   "cell_type": "code",
   "execution_count": 6,
   "id": "253c807a",
   "metadata": {},
   "outputs": [],
   "source": [
    "import pandas as pd\n",
    "import numpy as np\n",
    "import matplotlib.pyplot as plt\n",
    "from sklearn.model_selection import train_test_split\n",
    "from sklearn.preprocessing import StandardScaler\n",
    "\n",
    "from sklearn.linear_model import LogisticRegression\n",
    "from sklearn.metrics import accuracy_score, classification_report, confusion_matrix"
   ]
  },
  {
   "cell_type": "code",
   "execution_count": 7,
   "id": "52bcbec9",
   "metadata": {},
   "outputs": [],
   "source": [
    "X = cancer.data\n",
    "y = cancer.target"
   ]
  },
  {
   "cell_type": "code",
   "execution_count": 8,
   "id": "7ad92df7",
   "metadata": {},
   "outputs": [],
   "source": [
    "X_train,X_test,y_train,y_test=train_test_split(X,y, test_size=0.2, random_state=20)"
   ]
  },
  {
   "cell_type": "code",
   "execution_count": 9,
   "id": "c6ceecb6",
   "metadata": {},
   "outputs": [
    {
     "data": {
      "text/plain": [
       "((455, 30), (114, 30))"
      ]
     },
     "execution_count": 9,
     "metadata": {},
     "output_type": "execute_result"
    }
   ],
   "source": [
    "X_train.shape, X_test.shape"
   ]
  },
  {
   "cell_type": "code",
   "execution_count": 10,
   "id": "15b628f6",
   "metadata": {
    "scrolled": false
   },
   "outputs": [
    {
     "data": {
      "text/plain": [
       "array([[9.397e+00, 2.168e+01, 5.975e+01, ..., 2.564e-02, 2.376e-01,\n",
       "        9.206e-02],\n",
       "       [2.742e+01, 2.627e+01, 1.869e+02, ..., 2.625e-01, 2.641e-01,\n",
       "        7.427e-02],\n",
       "       [1.368e+01, 1.633e+01, 8.776e+01, ..., 8.704e-02, 2.806e-01,\n",
       "        7.782e-02],\n",
       "       ...,\n",
       "       [1.129e+01, 1.304e+01, 7.223e+01, ..., 8.750e-02, 2.733e-01,\n",
       "        8.022e-02],\n",
       "       [1.088e+01, 1.562e+01, 7.041e+01, ..., 7.966e-02, 2.581e-01,\n",
       "        1.080e-01],\n",
       "       [1.256e+01, 1.907e+01, 8.192e+01, ..., 9.265e-02, 2.121e-01,\n",
       "        7.188e-02]])"
      ]
     },
     "execution_count": 10,
     "metadata": {},
     "output_type": "execute_result"
    }
   ],
   "source": [
    "X_train"
   ]
  },
  {
   "cell_type": "code",
   "execution_count": 11,
   "id": "c94c505d",
   "metadata": {},
   "outputs": [
    {
     "data": {
      "text/plain": [
       "array([[1.071e+01, 2.039e+01, 6.950e+01, ..., 8.600e-02, 2.605e-01,\n",
       "        8.701e-02],\n",
       "       [1.561e+01, 1.938e+01, 1.000e+02, ..., 8.568e-02, 2.683e-01,\n",
       "        6.829e-02],\n",
       "       [1.863e+01, 2.511e+01, 1.248e+02, ..., 1.848e-01, 3.444e-01,\n",
       "        9.782e-02],\n",
       "       ...,\n",
       "       [1.206e+01, 1.890e+01, 7.666e+01, ..., 5.093e-02, 2.880e-01,\n",
       "        8.083e-02],\n",
       "       [1.373e+01, 2.261e+01, 9.360e+01, ..., 2.208e-01, 3.596e-01,\n",
       "        1.431e-01],\n",
       "       [9.777e+00, 1.699e+01, 6.250e+01, ..., 5.334e-02, 2.533e-01,\n",
       "        8.468e-02]])"
      ]
     },
     "execution_count": 11,
     "metadata": {},
     "output_type": "execute_result"
    }
   ],
   "source": [
    "X_test"
   ]
  },
  {
   "cell_type": "code",
   "execution_count": 12,
   "id": "6e5a31e1",
   "metadata": {},
   "outputs": [],
   "source": [
    "sc = StandardScaler()\n",
    "X_train = sc.fit_transform(X_train)\n",
    "X_test = sc.transform(X_test)"
   ]
  },
  {
   "cell_type": "code",
   "execution_count": 13,
   "id": "a9e3b129",
   "metadata": {},
   "outputs": [
    {
     "data": {
      "text/plain": [
       "array([[-1.34450029,  0.5346355 , -1.32325205, ..., -1.34334388,\n",
       "        -0.84057964,  0.48739774],\n",
       "       [ 3.77500369,  1.58209417,  3.89649166, ...,  2.25906721,\n",
       "        -0.39639035, -0.51916346],\n",
       "       [-0.12789731, -0.68625859, -0.17338951, ..., -0.40950938,\n",
       "        -0.11981967, -0.31830386],\n",
       "       ...,\n",
       "       [-0.8067862 , -1.4370514 , -0.81092486, ..., -0.40251322,\n",
       "        -0.24218124, -0.18251146],\n",
       "       [-0.92324831, -0.84828378, -0.88563924, ..., -0.52175203,\n",
       "        -0.49696151,  1.38928563],\n",
       "       [-0.44603771, -0.06097825, -0.41313236, ..., -0.32418671,\n",
       "        -1.26800706, -0.65439007]])"
      ]
     },
     "execution_count": 13,
     "metadata": {},
     "output_type": "execute_result"
    }
   ],
   "source": [
    "X_train"
   ]
  },
  {
   "cell_type": "code",
   "execution_count": 14,
   "id": "ef11fc39",
   "metadata": {},
   "outputs": [
    {
     "data": {
      "text/plain": [
       "array([[-0.97153748,  0.24025169, -0.92299644, ..., -0.42532677,\n",
       "        -0.45673305,  0.20166789],\n",
       "       [ 0.42032677,  0.00976515,  0.32908523, ..., -0.43019366,\n",
       "        -0.32599054, -0.85751288],\n",
       "       [ 1.27816964,  1.31737694,  1.3471713 , ...,  1.0773255 ,\n",
       "         0.94958699,  0.81329951],\n",
       "       ...,\n",
       "       [-0.58806468, -0.09977301, -0.62906513, ..., -0.95870749,\n",
       "         0.00421809, -0.14799756],\n",
       "       [-0.11369461,  0.74686569,  0.06635334, ...,  1.62485061,\n",
       "         1.20436725,  3.37524957],\n",
       "       [-1.2365598 , -0.53564361, -1.21035944, ..., -0.92205372,\n",
       "        -0.57741844,  0.06983609]])"
      ]
     },
     "execution_count": 14,
     "metadata": {},
     "output_type": "execute_result"
    }
   ],
   "source": [
    "X_test"
   ]
  },
  {
   "cell_type": "code",
   "execution_count": 15,
   "id": "8f374326",
   "metadata": {},
   "outputs": [
    {
     "data": {
      "text/plain": [
       "LogisticRegression()"
      ]
     },
     "execution_count": 15,
     "metadata": {},
     "output_type": "execute_result"
    }
   ],
   "source": [
    "clf = LogisticRegression()\n",
    "clf.fit(X_train,y_train)"
   ]
  },
  {
   "cell_type": "code",
   "execution_count": 16,
   "id": "31191c20",
   "metadata": {},
   "outputs": [
    {
     "name": "stdout",
     "output_type": "stream",
     "text": [
      "Accuracy Score for test :  0.9912280701754386\n"
     ]
    }
   ],
   "source": [
    "y_pred = clf.predict(X_test)\n",
    "print('Accuracy Score for test : ',accuracy_score(y_test,y_pred))\n"
   ]
  },
  {
   "cell_type": "code",
   "execution_count": 17,
   "id": "75df14a3",
   "metadata": {
    "scrolled": true
   },
   "outputs": [
    {
     "data": {
      "text/plain": [
       "array([1, 1, 0, 1, 0, 0, 0, 1, 1, 0, 0, 1, 1, 0, 1, 1, 1, 0, 0, 1, 1, 1,\n",
       "       0, 0, 0, 0, 0, 1, 1, 1, 0, 1, 0, 1, 0, 0, 0, 1, 0, 1, 0, 1, 1, 1,\n",
       "       0, 1, 1, 1, 1, 0, 1, 1, 0, 1, 1, 1, 1, 1, 1, 1, 1, 1, 1, 1, 0, 1,\n",
       "       0, 1, 1, 0, 0, 0, 0, 1, 1, 0, 0, 0, 0, 1, 1, 0, 1, 1, 1, 0, 1, 1,\n",
       "       1, 1, 1, 0, 1, 1, 0, 0, 0, 1, 1, 1, 1, 0, 0, 0, 1, 1, 0, 0, 1, 0,\n",
       "       1, 1, 0, 1])"
      ]
     },
     "execution_count": 17,
     "metadata": {},
     "output_type": "execute_result"
    }
   ],
   "source": [
    "y_pred"
   ]
  },
  {
   "cell_type": "code",
   "execution_count": 18,
   "id": "44c5cc7b",
   "metadata": {},
   "outputs": [
    {
     "data": {
      "text/plain": [
       "array([[47,  1],\n",
       "       [ 0, 66]], dtype=int64)"
      ]
     },
     "execution_count": 18,
     "metadata": {},
     "output_type": "execute_result"
    }
   ],
   "source": [
    "confusion_matrix(y_test,y_pred)"
   ]
  },
  {
   "cell_type": "code",
   "execution_count": 19,
   "id": "bb833ff7",
   "metadata": {},
   "outputs": [
    {
     "name": "stdout",
     "output_type": "stream",
     "text": [
      "              precision    recall  f1-score   support\n",
      "\n",
      "           0       1.00      0.98      0.99        48\n",
      "           1       0.99      1.00      0.99        66\n",
      "\n",
      "    accuracy                           0.99       114\n",
      "   macro avg       0.99      0.99      0.99       114\n",
      "weighted avg       0.99      0.99      0.99       114\n",
      "\n"
     ]
    }
   ],
   "source": [
    "print(classification_report(y_test,y_pred))"
   ]
  },
  {
   "cell_type": "code",
   "execution_count": 20,
   "id": "e28fef9d",
   "metadata": {},
   "outputs": [
    {
     "data": {
      "image/png": "[encoded data removed]",
      "text/plain": [
       "<Figure size 432x288 with 1 Axes>"
      ]
     },
     "metadata": {
      "needs_background": "light"
     },
     "output_type": "display_data"
    }
   ],
   "source": [
    "from sklearn.metrics import roc_auc_score\n",
    "from sklearn.metrics import roc_curve\n",
    "logit_roc_auc = roc_auc_score(y_test,y_pred)\n",
    "fpr, tpr, threshold = roc_curve(y_test, clf.predict_proba(X_test)[:,1])\n",
    "plt.figure()\n",
    "plt.plot(fpr, tpr, label ='Logistic Regression (area = %0.2f)' % logit_roc_auc)\n",
    "plt.plot([0,1],[0,1],'g--')\n",
    "plt.xlim([0.0, 1.0])\n",
    "plt.ylim([0.0, 1.05])\n",
    "plt.xlabel('false positive rate')\n",
    "plt.ylabel('true positive rate')\n",
    "plt.title('Receiver operating characteristics')\n",
    "plt.legend(loc = 'lower right')\n",
    "plt.savefig('Log_ROC')\n",
    "plt.show()"
   ]
  },
  {
   "cell_type": "code",
   "execution_count": null,
   "id": "cdda8fce",
   "metadata": {},
   "outputs": [],
   "source": []
  },
  {
   "cell_type": "markdown",
   "id": "8d7fd741",
   "metadata": {},
   "source": [
    "2. wine Quality"
   ]
  },
  {
   "cell_type": "code",
   "execution_count": 21,
   "id": "2d33129c",
   "metadata": {},
   "outputs": [],
   "source": [
    "import pandas as pd\n",
    "import numpy as np\n",
    "import matplotlib.pyplot as plt\n",
    "from sklearn.model_selection import train_test_split\n",
    "from sklearn.preprocessing import StandardScaler\n",
    "\n",
    "from sklearn.linear_model import LogisticRegression\n",
    "from sklearn.metrics import accuracy_score, classification_report, confusion_matrix"
   ]
  },
  {
   "cell_type": "code",
   "execution_count": 22,
   "id": "9c1311a2",
   "metadata": {},
   "outputs": [],
   "source": [
    "X = wine.data\n",
    "y = wine.target"
   ]
  },
  {
   "cell_type": "code",
   "execution_count": 23,
   "id": "ddb6f54f",
   "metadata": {},
   "outputs": [],
   "source": [
    "X_train,X_test,y_train,y_test=train_test_split(X,y, test_size=0.2, random_state=20)\n"
   ]
  },
  {
   "cell_type": "code",
   "execution_count": 24,
   "id": "3cb15642",
   "metadata": {},
   "outputs": [
    {
     "data": {
      "text/plain": [
       "((142, 13), (36, 13))"
      ]
     },
     "execution_count": 24,
     "metadata": {},
     "output_type": "execute_result"
    }
   ],
   "source": [
    "X_train.shape, X_test.shape"
   ]
  },
  {
   "cell_type": "code",
   "execution_count": 25,
   "id": "a10a1452",
   "metadata": {},
   "outputs": [
    {
     "data": {
      "text/plain": [
       "array([[1.320e+01, 1.780e+00, 2.140e+00, ..., 1.050e+00, 3.400e+00,\n",
       "        1.050e+03],\n",
       "       [1.237e+01, 1.170e+00, 1.920e+00, ..., 1.120e+00, 3.480e+00,\n",
       "        5.100e+02],\n",
       "       [1.340e+01, 3.910e+00, 2.480e+00, ..., 7.000e-01, 1.560e+00,\n",
       "        7.500e+02],\n",
       "       ...,\n",
       "       [1.384e+01, 4.120e+00, 2.380e+00, ..., 5.700e-01, 1.640e+00,\n",
       "        4.800e+02],\n",
       "       [1.363e+01, 1.810e+00, 2.700e+00, ..., 1.280e+00, 2.880e+00,\n",
       "        1.310e+03],\n",
       "       [1.229e+01, 3.170e+00, 2.210e+00, ..., 1.420e+00, 2.830e+00,\n",
       "        4.060e+02]])"
      ]
     },
     "execution_count": 25,
     "metadata": {},
     "output_type": "execute_result"
    }
   ],
   "source": [
    "X_train"
   ]
  },
  {
   "cell_type": "code",
   "execution_count": 26,
   "id": "a559aaf6",
   "metadata": {},
   "outputs": [
    {
     "data": {
      "text/plain": [
       "array([[1.252e+01, 2.430e+00, 2.170e+00, 2.100e+01, 8.800e+01, 2.550e+00,\n",
       "        2.270e+00, 2.600e-01, 1.220e+00, 2.000e+00, 9.000e-01, 2.780e+00,\n",
       "        3.250e+02],\n",
       "       [1.413e+01, 4.100e+00, 2.740e+00, 2.450e+01, 9.600e+01, 2.050e+00,\n",
       "        7.600e-01, 5.600e-01, 1.350e+00, 9.200e+00, 6.100e-01, 1.600e+00,\n",
       "        5.600e+02],\n",
       "       [1.438e+01, 3.590e+00, 2.280e+00, 1.600e+01, 1.020e+02, 3.250e+00,\n",
       "        3.170e+00, 2.700e-01, 2.190e+00, 4.900e+00, 1.040e+00, 3.440e+00,\n",
       "        1.065e+03],\n",
       "       [1.176e+01, 2.680e+00, 2.920e+00, 2.000e+01, 1.030e+02, 1.750e+00,\n",
       "        2.030e+00, 6.000e-01, 1.050e+00, 3.800e+00, 1.230e+00, 2.500e+00,\n",
       "        6.070e+02],\n",
       "       [1.200e+01, 1.510e+00, 2.420e+00, 2.200e+01, 8.600e+01, 1.450e+00,\n",
       "        1.250e+00, 5.000e-01, 1.630e+00, 3.600e+00, 1.050e+00, 2.650e+00,\n",
       "        4.500e+02],\n",
       "       [1.349e+01, 1.660e+00, 2.240e+00, 2.400e+01, 8.700e+01, 1.880e+00,\n",
       "        1.840e+00, 2.700e-01, 1.030e+00, 3.740e+00, 9.800e-01, 2.780e+00,\n",
       "        4.720e+02],\n",
       "       [1.293e+01, 2.810e+00, 2.700e+00, 2.100e+01, 9.600e+01, 1.540e+00,\n",
       "        5.000e-01, 5.300e-01, 7.500e-01, 4.600e+00, 7.700e-01, 2.310e+00,\n",
       "        6.000e+02],\n",
       "       [1.272e+01, 1.750e+00, 2.280e+00, 2.250e+01, 8.400e+01, 1.380e+00,\n",
       "        1.760e+00, 4.800e-01, 1.630e+00, 3.300e+00, 8.800e-01, 2.420e+00,\n",
       "        4.880e+02],\n",
       "       [1.207e+01, 2.160e+00, 2.170e+00, 2.100e+01, 8.500e+01, 2.600e+00,\n",
       "        2.650e+00, 3.700e-01, 1.350e+00, 2.760e+00, 8.600e-01, 3.280e+00,\n",
       "        3.780e+02],\n",
       "       [1.340e+01, 4.600e+00, 2.860e+00, 2.500e+01, 1.120e+02, 1.980e+00,\n",
       "        9.600e-01, 2.700e-01, 1.110e+00, 8.500e+00, 6.700e-01, 1.920e+00,\n",
       "        6.300e+02],\n",
       "       [1.390e+01, 1.680e+00, 2.120e+00, 1.600e+01, 1.010e+02, 3.100e+00,\n",
       "        3.390e+00, 2.100e-01, 2.140e+00, 6.100e+00, 9.100e-01, 3.330e+00,\n",
       "        9.850e+02],\n",
       "       [1.373e+01, 4.360e+00, 2.260e+00, 2.250e+01, 8.800e+01, 1.280e+00,\n",
       "        4.700e-01, 5.200e-01, 1.150e+00, 6.620e+00, 7.800e-01, 1.750e+00,\n",
       "        5.200e+02],\n",
       "       [1.145e+01, 2.400e+00, 2.420e+00, 2.000e+01, 9.600e+01, 2.900e+00,\n",
       "        2.790e+00, 3.200e-01, 1.830e+00, 3.250e+00, 8.000e-01, 3.390e+00,\n",
       "        6.250e+02],\n",
       "       [1.367e+01, 1.250e+00, 1.920e+00, 1.800e+01, 9.400e+01, 2.100e+00,\n",
       "        1.790e+00, 3.200e-01, 7.300e-01, 3.800e+00, 1.230e+00, 2.460e+00,\n",
       "        6.300e+02],\n",
       "       [1.475e+01, 1.730e+00, 2.390e+00, 1.140e+01, 9.100e+01, 3.100e+00,\n",
       "        3.690e+00, 4.300e-01, 2.810e+00, 5.400e+00, 1.250e+00, 2.730e+00,\n",
       "        1.150e+03],\n",
       "       [1.269e+01, 1.530e+00, 2.260e+00, 2.070e+01, 8.000e+01, 1.380e+00,\n",
       "        1.460e+00, 5.800e-01, 1.620e+00, 3.050e+00, 9.600e-01, 2.060e+00,\n",
       "        4.950e+02],\n",
       "       [1.165e+01, 1.670e+00, 2.620e+00, 2.600e+01, 8.800e+01, 1.920e+00,\n",
       "        1.610e+00, 4.000e-01, 1.340e+00, 2.600e+00, 1.360e+00, 3.210e+00,\n",
       "        5.620e+02],\n",
       "       [1.387e+01, 1.900e+00, 2.800e+00, 1.940e+01, 1.070e+02, 2.950e+00,\n",
       "        2.970e+00, 3.700e-01, 1.760e+00, 4.500e+00, 1.250e+00, 3.400e+00,\n",
       "        9.150e+02],\n",
       "       [1.383e+01, 1.650e+00, 2.600e+00, 1.720e+01, 9.400e+01, 2.450e+00,\n",
       "        2.990e+00, 2.200e-01, 2.290e+00, 5.600e+00, 1.240e+00, 3.370e+00,\n",
       "        1.265e+03],\n",
       "       [1.317e+01, 5.190e+00, 2.320e+00, 2.200e+01, 9.300e+01, 1.740e+00,\n",
       "        6.300e-01, 6.100e-01, 1.550e+00, 7.900e+00, 6.000e-01, 1.480e+00,\n",
       "        7.250e+02],\n",
       "       [1.369e+01, 3.260e+00, 2.540e+00, 2.000e+01, 1.070e+02, 1.830e+00,\n",
       "        5.600e-01, 5.000e-01, 8.000e-01, 5.880e+00, 9.600e-01, 1.820e+00,\n",
       "        6.800e+02],\n",
       "       [1.305e+01, 1.770e+00, 2.100e+00, 1.700e+01, 1.070e+02, 3.000e+00,\n",
       "        3.000e+00, 2.800e-01, 2.030e+00, 5.040e+00, 8.800e-01, 3.350e+00,\n",
       "        8.850e+02],\n",
       "       [1.187e+01, 4.310e+00, 2.390e+00, 2.100e+01, 8.200e+01, 2.860e+00,\n",
       "        3.030e+00, 2.100e-01, 2.910e+00, 2.800e+00, 7.500e-01, 3.640e+00,\n",
       "        3.800e+02],\n",
       "       [1.351e+01, 1.800e+00, 2.650e+00, 1.900e+01, 1.100e+02, 2.350e+00,\n",
       "        2.530e+00, 2.900e-01, 1.540e+00, 4.200e+00, 1.100e+00, 2.870e+00,\n",
       "        1.095e+03],\n",
       "       [1.281e+01, 2.310e+00, 2.400e+00, 2.400e+01, 9.800e+01, 1.150e+00,\n",
       "        1.090e+00, 2.700e-01, 8.300e-01, 5.700e+00, 6.600e-01, 1.360e+00,\n",
       "        5.600e+02],\n",
       "       [1.184e+01, 2.890e+00, 2.230e+00, 1.800e+01, 1.120e+02, 1.720e+00,\n",
       "        1.320e+00, 4.300e-01, 9.500e-01, 2.650e+00, 9.600e-01, 2.520e+00,\n",
       "        5.000e+02],\n",
       "       [1.421e+01, 4.040e+00, 2.440e+00, 1.890e+01, 1.110e+02, 2.850e+00,\n",
       "        2.650e+00, 3.000e-01, 1.250e+00, 5.240e+00, 8.700e-01, 3.330e+00,\n",
       "        1.080e+03],\n",
       "       [1.225e+01, 4.720e+00, 2.540e+00, 2.100e+01, 8.900e+01, 1.380e+00,\n",
       "        4.700e-01, 5.300e-01, 8.000e-01, 3.850e+00, 7.500e-01, 1.270e+00,\n",
       "        7.200e+02],\n",
       "       [1.200e+01, 9.200e-01, 2.000e+00, 1.900e+01, 8.600e+01, 2.420e+00,\n",
       "        2.260e+00, 3.000e-01, 1.430e+00, 2.500e+00, 1.380e+00, 3.120e+00,\n",
       "        2.780e+02],\n",
       "       [1.182e+01, 1.720e+00, 1.880e+00, 1.950e+01, 8.600e+01, 2.500e+00,\n",
       "        1.640e+00, 3.700e-01, 1.420e+00, 2.060e+00, 9.400e-01, 2.440e+00,\n",
       "        4.150e+02],\n",
       "       [1.334e+01, 9.400e-01, 2.360e+00, 1.700e+01, 1.100e+02, 2.530e+00,\n",
       "        1.300e+00, 5.500e-01, 4.200e-01, 3.170e+00, 1.020e+00, 1.930e+00,\n",
       "        7.500e+02],\n",
       "       [1.161e+01, 1.350e+00, 2.700e+00, 2.000e+01, 9.400e+01, 2.740e+00,\n",
       "        2.920e+00, 2.900e-01, 2.490e+00, 2.650e+00, 9.600e-01, 3.260e+00,\n",
       "        6.800e+02],\n",
       "       [1.311e+01, 1.900e+00, 2.750e+00, 2.550e+01, 1.160e+02, 2.200e+00,\n",
       "        1.280e+00, 2.600e-01, 1.560e+00, 7.100e+00, 6.100e-01, 1.330e+00,\n",
       "        4.250e+02],\n",
       "       [1.208e+01, 2.080e+00, 1.700e+00, 1.750e+01, 9.700e+01, 2.230e+00,\n",
       "        2.170e+00, 2.600e-01, 1.400e+00, 3.300e+00, 1.270e+00, 2.960e+00,\n",
       "        7.100e+02],\n",
       "       [1.375e+01, 1.730e+00, 2.410e+00, 1.600e+01, 8.900e+01, 2.600e+00,\n",
       "        2.760e+00, 2.900e-01, 1.810e+00, 5.600e+00, 1.150e+00, 2.900e+00,\n",
       "        1.320e+03],\n",
       "       [1.356e+01, 1.730e+00, 2.460e+00, 2.050e+01, 1.160e+02, 2.960e+00,\n",
       "        2.780e+00, 2.000e-01, 2.450e+00, 6.250e+00, 9.800e-01, 3.030e+00,\n",
       "        1.120e+03]])"
      ]
     },
     "execution_count": 26,
     "metadata": {},
     "output_type": "execute_result"
    }
   ],
   "source": [
    "X_test"
   ]
  },
  {
   "cell_type": "code",
   "execution_count": 27,
   "id": "67e15183",
   "metadata": {},
   "outputs": [],
   "source": [
    "sc = StandardScaler()\n",
    "X_train = sc.fit_transform(X_train)\n",
    "X_test = sc.transform(X_test)"
   ]
  },
  {
   "cell_type": "code",
   "execution_count": 28,
   "id": "4bb99d78",
   "metadata": {},
   "outputs": [
    {
     "data": {
      "text/plain": [
       "array([[ 0.24189065, -0.47902084, -0.81155835, ...,  0.40493349,\n",
       "         1.10702508,  0.90157625],\n",
       "       [-0.81793211, -1.03233174, -1.62104376, ...,  0.7079325 ,\n",
       "         1.21939936, -0.77648742],\n",
       "       [ 0.49726963,  1.453032  ,  0.43946455, ..., -1.11006157,\n",
       "        -1.47758321, -0.03068134],\n",
       "       ...,\n",
       "       [ 1.05910339,  1.64351608,  0.07151664, ..., -1.67277402,\n",
       "        -1.36520893, -0.86971317],\n",
       "       [ 0.79095546, -0.45180882,  1.24894996, ...,  1.40050167,\n",
       "         0.37659231,  1.70953283],\n",
       "       [-0.92008371,  0.78180237, -0.55399482, ...,  2.00649969,\n",
       "         0.30635838, -1.09967005]])"
      ]
     },
     "execution_count": 28,
     "metadata": {},
     "output_type": "execute_result"
    }
   ],
   "source": [
    "X_train"
   ]
  },
  {
   "cell_type": "code",
   "execution_count": 29,
   "id": "d3895e19",
   "metadata": {},
   "outputs": [
    {
     "data": {
      "text/plain": [
       "array([[-6.26397879e-01,  1.10572752e-01, -7.01173980e-01,\n",
       "         4.91809235e-01, -8.35404304e-01,  3.82839331e-01,\n",
       "         2.21874310e-01, -8.02533196e-01, -6.91580163e-01,\n",
       "        -1.32709093e+00, -2.44350108e-01,  2.36124463e-01,\n",
       "        -1.35137960e+00],\n",
       "       [ 1.42940291e+00,  1.62537474e+00,  1.39612912e+00,\n",
       "         1.52752614e+00, -3.01347304e-01, -4.11015590e-01,\n",
       "        -1.27088658e+00,  1.62731145e+00, -4.60803413e-01,\n",
       "         1.66723249e+00, -1.49963172e+00, -1.42139607e+00,\n",
       "        -6.21111150e-01],\n",
       "       [ 1.74862664e+00,  1.16277054e+00, -2.96431276e-01,\n",
       "        -9.87786345e-01,  9.91954463e-02,  1.49423622e+00,\n",
       "         1.11159934e+00, -7.21538375e-01,  1.03036943e+00,\n",
       "        -1.21043998e-01,  3.61647914e-01,  1.16321222e+00,\n",
       "         9.48189131e-01],\n",
       "       [-1.59683800e+00,  3.37339516e-01,  2.05843537e+00,\n",
       "         1.95890119e-01,  1.65952571e-01, -8.87328542e-01,\n",
       "        -1.53856989e-02,  1.95129073e+00, -9.93365144e-01,\n",
       "        -5.78510077e-01,  1.18407380e+00, -1.57185493e-01,\n",
       "        -4.75057461e-01],\n",
       "       [-1.29038323e+00, -7.23928940e-01,  2.18695802e-01,\n",
       "         7.87728351e-01, -9.68918554e-01, -1.36364149e+00,\n",
       "        -7.86480728e-01,  1.14134252e+00,  3.62542023e-02,\n",
       "        -6.61685727e-01,  4.04933487e-01,  5.35162693e-02,\n",
       "        -9.62938934e-01],\n",
       "       [ 6.12190175e-01, -5.87868882e-01, -4.43610441e-01,\n",
       "         1.37956658e+00, -9.02161429e-01, -6.80926263e-01,\n",
       "        -2.03216539e-01, -7.21538375e-01, -1.02886926e+00,\n",
       "        -6.03462772e-01,  1.01934476e-01,  2.36124463e-01,\n",
       "        -8.94573377e-01],\n",
       "       [-1.02870969e-01,  4.55258233e-01,  1.24894996e+00,\n",
       "         4.91809235e-01, -3.01347304e-01, -1.22074761e+00,\n",
       "        -1.52791826e+00,  1.38432698e+00, -1.52592687e+00,\n",
       "        -2.45807474e-01, -8.07062557e-01, -4.24074393e-01,\n",
       "        -4.96810138e-01],\n",
       "       [-3.71018899e-01, -5.06232847e-01, -2.96431276e-01,\n",
       "         9.35687909e-01, -1.10243280e+00, -1.47478118e+00,\n",
       "        -2.82303209e-01,  9.79352877e-01,  3.62542023e-02,\n",
       "        -7.86449203e-01, -3.30921254e-01, -2.69559767e-01,\n",
       "        -8.44852972e-01],\n",
       "       [-1.20100058e+00, -1.34335354e-01, -7.01173980e-01,\n",
       "         4.91809235e-01, -1.03567568e+00,  4.62224823e-01,\n",
       "         5.97535991e-01,  8.84098404e-02, -4.60803413e-01,\n",
       "        -1.01102346e+00, -4.17492400e-01,  9.38463672e-01,\n",
       "        -1.18668076e+00],\n",
       "       [ 4.97269634e-01,  2.07890826e+00,  1.83766662e+00,\n",
       "         1.67548570e+00,  7.66766696e-01, -5.22155279e-01,\n",
       "        -1.07316990e+00, -7.21538375e-01, -8.86852798e-01,\n",
       "         1.37611771e+00, -1.23991829e+00, -9.71898975e-01,\n",
       "        -4.03584379e-01],\n",
       "       [ 1.13571708e+00, -5.69727541e-01, -8.85147937e-01,\n",
       "        -9.87786345e-01,  3.24383213e-02,  1.25607974e+00,\n",
       "         1.32908768e+00, -1.20750730e+00,  9.41609145e-01,\n",
       "         3.78009905e-01, -2.01064535e-01,  1.00869759e+00,\n",
       "         6.99587106e-01],\n",
       "       [ 9.18644951e-01,  1.86121217e+00, -3.70020859e-01,\n",
       "         9.35687909e-01, -8.35404304e-01, -1.63355217e+00,\n",
       "        -1.55757576e+00,  1.30333216e+00, -8.15844567e-01,\n",
       "         5.94266597e-01, -7.63776984e-01, -1.21069431e+00,\n",
       "        -7.45412162e-01],\n",
       "       [-1.99267542e+00,  8.33607401e-02,  2.18695802e-01,\n",
       "         1.95890119e-01, -3.01347304e-01,  9.38537775e-01,\n",
       "         7.35937662e-01, -3.16564267e-01,  3.91295356e-01,\n",
       "        -8.07243116e-01, -6.77205838e-01,  1.09297830e+00,\n",
       "        -4.19122005e-01],\n",
       "       [ 8.42031257e-01, -9.59766375e-01, -1.62104376e+00,\n",
       "        -3.95948113e-01, -4.34861554e-01, -3.31630098e-01,\n",
       "        -2.52645708e-01, -3.16564267e-01, -1.56143099e+00,\n",
       "        -5.78510077e-01,  1.18407380e+00, -2.13372630e-01,\n",
       "        -4.03584379e-01],\n",
       "       [ 2.22107775e+00, -5.24374188e-01,  1.08311428e-01,\n",
       "        -2.34901428e+00, -6.35132929e-01,  1.25607974e+00,\n",
       "         1.62566270e+00,  5.74378769e-01,  2.13099701e+00,\n",
       "         8.68951281e-02,  1.27064495e+00,  1.65890543e-01,\n",
       "         1.21232878e+00],\n",
       "       [-4.09325746e-01, -7.05787599e-01, -3.70020859e-01,\n",
       "         4.03033500e-01, -1.36946130e+00, -1.47478118e+00,\n",
       "        -5.78878220e-01,  1.78930109e+00,  1.85021446e-02,\n",
       "        -8.90418767e-01,  1.53633301e-02, -7.75243997e-01,\n",
       "        -8.23100295e-01],\n",
       "       [-1.73729644e+00, -5.78798211e-01,  9.54591627e-01,\n",
       "         1.97140482e+00, -8.35404304e-01, -6.17417869e-01,\n",
       "        -4.30590714e-01,  3.31394305e-01, -4.78555471e-01,\n",
       "        -1.07756398e+00,  1.74678625e+00,  8.40136183e-01,\n",
       "        -6.14896100e-01],\n",
       "       [ 1.09741024e+00, -3.70172788e-01,  1.61689787e+00,\n",
       "         1.83386494e-02,  4.32981071e-01,  1.01792327e+00,\n",
       "         9.13882669e-01,  8.84098404e-02,  2.67030952e-01,\n",
       "        -2.87395300e-01,  1.27064495e+00,  1.10702508e+00,\n",
       "         4.82060335e-01],\n",
       "       [ 1.04633444e+00, -5.96939552e-01,  8.81002045e-01,\n",
       "        -6.32683406e-01, -4.34861554e-01,  2.24068347e-01,\n",
       "         9.33654336e-01, -1.12651248e+00,  1.20789001e+00,\n",
       "         1.70070779e-01,  1.22735937e+00,  1.06488473e+00,\n",
       "         1.56969419e+00],\n",
       "       [ 2.03583807e-01,  2.61407783e+00, -1.49252111e-01,\n",
       "         7.87728351e-01, -5.01618679e-01, -9.03205641e-01,\n",
       "        -1.39940242e+00,  2.03228556e+00, -1.05762259e-01,\n",
       "         1.12659076e+00, -1.54291730e+00, -1.58995748e+00,\n",
       "        -1.08369474e-01],\n",
       "       [ 8.67569155e-01,  8.63438409e-01,  6.60233297e-01,\n",
       "         1.95890119e-01,  4.32981071e-01, -7.60311755e-01,\n",
       "        -1.46860325e+00,  1.14134252e+00, -1.43716659e+00,\n",
       "         2.86516690e-01,  1.53633301e-02, -1.11236682e+00,\n",
       "        -2.48208113e-01],\n",
       "       [ 5.03564186e-02, -4.88091506e-01, -9.58737519e-01,\n",
       "        -6.91867229e-01,  4.32981071e-01,  1.09730876e+00,\n",
       "         9.43540170e-01, -6.40543553e-01,  7.46336510e-01,\n",
       "        -6.28210430e-02, -3.30921254e-01,  1.03679116e+00,\n",
       "         3.88834575e-01],\n",
       "       [-1.45637956e+00,  1.81585882e+00,  1.08311428e-01,\n",
       "         4.91809235e-01, -1.23594705e+00,  8.75029381e-01,\n",
       "         9.73197671e-01, -1.20750730e+00,  2.30851759e+00,\n",
       "        -9.94388330e-01, -8.93633703e-01,  1.44414790e+00,\n",
       "        -1.18046571e+00],\n",
       "       [ 6.37728073e-01, -4.60879494e-01,  1.06497600e+00,\n",
       "        -1.00028997e-01,  6.33252446e-01,  6.52973625e-02,\n",
       "         4.78905986e-01, -5.59548732e-01, -1.23514317e-01,\n",
       "        -4.12158776e-01,  6.21361352e-01,  3.62545521e-01,\n",
       "         1.04141489e+00],\n",
       "       [-2.56098358e-01,  1.72470497e-03,  1.45106219e-01,\n",
       "         1.37956658e+00, -1.67833054e-01, -1.83995445e+00,\n",
       "        -9.44654067e-01, -7.21538375e-01, -1.38391041e+00,\n",
       "         2.11658604e-01, -1.28320386e+00, -1.75851889e+00,\n",
       "        -6.21111150e-01],\n",
       "       [-1.49468641e+00,  5.27823598e-01, -4.80405233e-01,\n",
       "        -3.95948113e-01,  7.66766696e-01, -9.34959837e-01,\n",
       "        -7.17279892e-01,  5.74378769e-01, -1.17088572e+00,\n",
       "        -1.05677007e+00,  1.53633301e-02, -1.29091925e-01,\n",
       "        -8.07562669e-01],\n",
       "       [ 1.53155450e+00,  1.57095071e+00,  2.92285384e-01,\n",
       "        -1.29620909e-01,  7.00009571e-01,  8.59152283e-01,\n",
       "         5.97535991e-01, -4.78553910e-01, -6.38323990e-01,\n",
       "         2.03546076e-02, -3.74206827e-01,  1.00869759e+00,\n",
       "         9.94802011e-01],\n",
       "       [-9.71159502e-01,  2.18775631e+00,  6.60233297e-01,\n",
       "         4.91809235e-01, -7.68647179e-01, -1.47478118e+00,\n",
       "        -1.55757576e+00,  1.38432698e+00, -1.43716659e+00,\n",
       "        -5.57716164e-01, -8.93633703e-01, -1.88493995e+00,\n",
       "        -1.23907101e-01],\n",
       "       [-1.29038323e+00, -1.25909850e+00, -1.32668543e+00,\n",
       "        -1.00028997e-01, -9.68918554e-01,  1.76437051e-01,\n",
       "         2.11988476e-01, -4.78553910e-01, -3.18786952e-01,\n",
       "        -1.11915181e+00,  1.83335740e+00,  7.13715125e-01,\n",
       "        -1.49743329e+00],\n",
       "       [-1.52022431e+00, -5.33444858e-01, -1.76822293e+00,\n",
       "         4.79305611e-02, -9.68918554e-01,  3.03453839e-01,\n",
       "        -4.00933213e-01,  8.84098404e-02, -3.36539009e-01,\n",
       "        -1.30213824e+00, -7.12078159e-02, -2.41466198e-01,\n",
       "        -1.07170232e+00],\n",
       "       [ 4.20655940e-01, -1.24095716e+00, -2.07294599e-03,\n",
       "        -6.91867229e-01,  6.33252446e-01,  3.51085134e-01,\n",
       "        -7.37051559e-01,  1.54631663e+00, -2.11174478e+00,\n",
       "        -8.40513376e-01,  2.75076768e-01, -9.57852191e-01,\n",
       "        -3.06813414e-02],\n",
       "       [-1.78837224e+00, -8.69059669e-01,  1.24894996e+00,\n",
       "         1.95890119e-01, -4.34861554e-01,  6.84504200e-01,\n",
       "         8.64453500e-01, -5.59548732e-01,  1.56293116e+00,\n",
       "        -1.05677007e+00,  1.53633301e-02,  9.10370104e-01,\n",
       "        -2.48208113e-01],\n",
       "       [ 1.26970113e-01, -3.70172788e-01,  1.43292391e+00,\n",
       "         1.82344526e+00,  1.03379520e+00, -1.72859114e-01,\n",
       "        -7.56823226e-01, -8.02533196e-01, -8.80102015e-02,\n",
       "         7.93888158e-01, -1.49963172e+00, -1.80065924e+00,\n",
       "        -1.04062707e+00],\n",
       "       [-1.18823164e+00, -2.06900718e-01, -2.43052917e+00,\n",
       "        -5.43907671e-01, -2.34590179e-01, -1.25227818e-01,\n",
       "         1.23015973e-01, -8.02533196e-01, -3.72043125e-01,\n",
       "        -7.86449203e-01,  1.35721609e+00,  4.88966579e-01,\n",
       "        -1.54982354e-01],\n",
       "       [ 9.44182849e-01, -5.24374188e-01,  1.81901010e-01,\n",
       "        -9.87786345e-01, -7.68647179e-01,  4.62224823e-01,\n",
       "         7.06280161e-01, -5.59548732e-01,  3.55791241e-01,\n",
       "         1.70070779e-01,  8.37789217e-01,  4.04685874e-01,\n",
       "         1.74060808e+00],\n",
       "       [ 7.01572818e-01, -5.24374188e-01,  3.65874967e-01,\n",
       "         3.43849677e-01,  1.03379520e+00,  1.03380037e+00,\n",
       "         7.26051829e-01, -1.28850213e+00,  1.49192293e+00,\n",
       "         4.40391643e-01,  1.01934476e-01,  5.87294068e-01,\n",
       "         1.11910302e+00]])"
      ]
     },
     "execution_count": 29,
     "metadata": {},
     "output_type": "execute_result"
    }
   ],
   "source": [
    "X_test"
   ]
  },
  {
   "cell_type": "code",
   "execution_count": 30,
   "id": "0c426652",
   "metadata": {},
   "outputs": [
    {
     "data": {
      "text/plain": [
       "LogisticRegression()"
      ]
     },
     "execution_count": 30,
     "metadata": {},
     "output_type": "execute_result"
    }
   ],
   "source": [
    "clf = LogisticRegression()\n",
    "clf.fit(X_train,y_train)"
   ]
  },
  {
   "cell_type": "code",
   "execution_count": 31,
   "id": "cd2e811b",
   "metadata": {},
   "outputs": [
    {
     "name": "stdout",
     "output_type": "stream",
     "text": [
      "Accuracy Score for test :  0.9722222222222222\n"
     ]
    }
   ],
   "source": [
    "y_pred = clf.predict(X_test)\n",
    "print('Accuracy Score for test : ',accuracy_score(y_test,y_pred))"
   ]
  },
  {
   "cell_type": "code",
   "execution_count": 32,
   "id": "6797b725",
   "metadata": {},
   "outputs": [
    {
     "data": {
      "text/plain": [
       "array([1, 2, 0, 1, 1, 1, 2, 1, 1, 2, 0, 2, 1, 1, 0, 1, 1, 0, 0, 2, 2, 0,\n",
       "       1, 0, 2, 1, 0, 2, 1, 1, 2, 1, 2, 1, 0, 0])"
      ]
     },
     "execution_count": 32,
     "metadata": {},
     "output_type": "execute_result"
    }
   ],
   "source": [
    "y_pred"
   ]
  },
  {
   "cell_type": "code",
   "execution_count": 33,
   "id": "d576926d",
   "metadata": {},
   "outputs": [
    {
     "data": {
      "text/plain": [
       "array([[10,  0,  0],\n",
       "       [ 0, 16,  1],\n",
       "       [ 0,  0,  9]], dtype=int64)"
      ]
     },
     "execution_count": 33,
     "metadata": {},
     "output_type": "execute_result"
    }
   ],
   "source": [
    "confusion_matrix(y_test,y_pred)"
   ]
  },
  {
   "cell_type": "code",
   "execution_count": 34,
   "id": "a12805e0",
   "metadata": {},
   "outputs": [
    {
     "name": "stdout",
     "output_type": "stream",
     "text": [
      "              precision    recall  f1-score   support\n",
      "\n",
      "           0       1.00      1.00      1.00        10\n",
      "           1       1.00      0.94      0.97        17\n",
      "           2       0.90      1.00      0.95         9\n",
      "\n",
      "    accuracy                           0.97        36\n",
      "   macro avg       0.97      0.98      0.97        36\n",
      "weighted avg       0.98      0.97      0.97        36\n",
      "\n"
     ]
    }
   ],
   "source": [
    "print(classification_report(y_test,y_pred))"
   ]
  },
  {
   "cell_type": "markdown",
   "id": "1f7df8d3",
   "metadata": {},
   "source": [
    "# Support vector machine"
   ]
  },
  {
   "cell_type": "markdown",
   "id": "f3a8a54a",
   "metadata": {},
   "source": [
    "1. Breast Cancer"
   ]
  },
  {
   "cell_type": "code",
   "execution_count": 35,
   "id": "3d401eb1",
   "metadata": {},
   "outputs": [],
   "source": [
    "X = cancer.data\n",
    "y = cancer.target \n",
    "from sklearn.model_selection import train_test_split\n",
    "X_train,X_test,y_train,y_test= train_test_split(X,y,test_size=0.2,random_state=20)"
   ]
  },
  {
   "cell_type": "code",
   "execution_count": 36,
   "id": "eabdbddf",
   "metadata": {
    "scrolled": true
   },
   "outputs": [],
   "source": [
    "from sklearn import svm\n",
    "clf = svm.SVC(kernel='linear')\n",
    "clf.fit(X_train,y_train)\n",
    "y_pred = clf.predict(X_test)"
   ]
  },
  {
   "cell_type": "code",
   "execution_count": 37,
   "id": "a5fce109",
   "metadata": {},
   "outputs": [
    {
     "data": {
      "text/plain": [
       "array([1, 0, 0, 1, 0, 0, 0, 1, 1, 0, 0, 1, 1, 0, 1, 1, 1, 0, 0, 1, 1, 1,\n",
       "       0, 0, 0, 0, 0, 1, 0, 1, 1, 1, 0, 1, 0, 0, 0, 1, 0, 1, 0, 1, 1, 1,\n",
       "       0, 1, 1, 1, 1, 0, 1, 1, 0, 1, 1, 1, 1, 1, 1, 1, 1, 1, 1, 1, 0, 1,\n",
       "       0, 1, 1, 0, 0, 0, 0, 1, 1, 0, 0, 0, 0, 0, 1, 1, 1, 1, 1, 0, 1, 1,\n",
       "       1, 1, 1, 0, 1, 1, 0, 1, 0, 1, 1, 1, 1, 0, 0, 0, 1, 1, 0, 0, 1, 0,\n",
       "       1, 1, 0, 1])"
      ]
     },
     "execution_count": 37,
     "metadata": {},
     "output_type": "execute_result"
    }
   ],
   "source": [
    "y_pred"
   ]
  },
  {
   "cell_type": "code",
   "execution_count": 38,
   "id": "33922ef8",
   "metadata": {},
   "outputs": [
    {
     "name": "stdout",
     "output_type": "stream",
     "text": [
      "Accuracy :  0.956140350877193\n",
      "confusion mat : \n",
      " [[45  3]\n",
      " [ 2 64]]\n",
      "report : \n",
      "               precision    recall  f1-score   support\n",
      "\n",
      "           0       0.96      0.94      0.95        48\n",
      "           1       0.96      0.97      0.96        66\n",
      "\n",
      "    accuracy                           0.96       114\n",
      "   macro avg       0.96      0.95      0.95       114\n",
      "weighted avg       0.96      0.96      0.96       114\n",
      "\n",
      "Recall : \n",
      " 0.9696969696969697\n",
      "F1Score : \n",
      " 0.9624060150375939\n"
     ]
    }
   ],
   "source": [
    "from sklearn import metrics\n",
    "print('Accuracy : ',metrics.accuracy_score(y_test,y_pred))\n",
    "print('confusion mat : \\n' ,metrics.confusion_matrix(y_test,y_pred))\n",
    "print('report : \\n',metrics.classification_report(y_test,y_pred))\n",
    "print('Recall : \\n',metrics.recall_score(y_test,y_pred))\n",
    "print('F1Score : \\n',metrics.f1_score(y_test,y_pred))"
   ]
  },
  {
   "cell_type": "markdown",
   "id": "38364614",
   "metadata": {},
   "source": [
    "2. wine Quality"
   ]
  },
  {
   "cell_type": "code",
   "execution_count": 39,
   "id": "8fe78a69",
   "metadata": {},
   "outputs": [],
   "source": [
    "X = wine.data\n",
    "y = wine.target \n",
    "from sklearn.model_selection import train_test_split\n",
    "X_train,X_test,y_train,y_test= train_test_split(X,y,test_size=0.2,random_state=20)\n"
   ]
  },
  {
   "cell_type": "code",
   "execution_count": 40,
   "id": "456c8d75",
   "metadata": {},
   "outputs": [],
   "source": [
    "from sklearn import svm\n",
    "clf = svm.SVC(kernel='linear')\n",
    "clf.fit(X_train,y_train)\n",
    "y_pred = clf.predict(X_test)"
   ]
  },
  {
   "cell_type": "code",
   "execution_count": 41,
   "id": "cd09e2d5",
   "metadata": {},
   "outputs": [
    {
     "data": {
      "text/plain": [
       "array([1, 2, 0, 1, 1, 1, 2, 1, 1, 2, 0, 2, 1, 1, 0, 1, 1, 0, 0, 2, 2, 0,\n",
       "       1, 0, 2, 1, 0, 2, 1, 1, 0, 1, 2, 1, 0, 0])"
      ]
     },
     "execution_count": 41,
     "metadata": {},
     "output_type": "execute_result"
    }
   ],
   "source": [
    "y_pred"
   ]
  },
  {
   "cell_type": "code",
   "execution_count": 44,
   "id": "bf9a61f5",
   "metadata": {},
   "outputs": [
    {
     "name": "stdout",
     "output_type": "stream",
     "text": [
      "Accuracy :  0.9722222222222222\n",
      "confusion mat : \n",
      " [[10  0  0]\n",
      " [ 1 16  0]\n",
      " [ 0  0  9]]\n",
      "report : \n",
      "               precision    recall  f1-score   support\n",
      "\n",
      "           0       0.91      1.00      0.95        10\n",
      "           1       1.00      0.94      0.97        17\n",
      "           2       1.00      1.00      1.00         9\n",
      "\n",
      "    accuracy                           0.97        36\n",
      "   macro avg       0.97      0.98      0.97        36\n",
      "weighted avg       0.97      0.97      0.97        36\n",
      "\n"
     ]
    }
   ],
   "source": [
    "from sklearn import metrics\n",
    "print('Accuracy : ',metrics.accuracy_score(y_test,y_pred))\n",
    "print('confusion mat : \\n' ,metrics.confusion_matrix(y_test,y_pred))\n",
    "print('report : \\n',metrics.classification_report(y_test,y_pred))\n"
   ]
  },
  {
   "cell_type": "markdown",
   "id": "d12063cd",
   "metadata": {},
   "source": [
    "# Decision Tree"
   ]
  },
  {
   "cell_type": "markdown",
   "id": "ebd75baf",
   "metadata": {},
   "source": [
    "1. Breast cancer"
   ]
  },
  {
   "cell_type": "code",
   "execution_count": 45,
   "id": "0eaddb10",
   "metadata": {},
   "outputs": [
    {
     "data": {
      "text/plain": [
       "(569, 30)"
      ]
     },
     "execution_count": 45,
     "metadata": {},
     "output_type": "execute_result"
    }
   ],
   "source": [
    "cancer.data.shape"
   ]
  },
  {
   "cell_type": "code",
   "execution_count": 46,
   "id": "b24ace7e",
   "metadata": {},
   "outputs": [],
   "source": [
    "X = cancer.data\n",
    "y = cancer.target "
   ]
  },
  {
   "cell_type": "code",
   "execution_count": 47,
   "id": "766f1df7",
   "metadata": {},
   "outputs": [
    {
     "data": {
      "text/plain": [
       "(569, 30)"
      ]
     },
     "execution_count": 47,
     "metadata": {},
     "output_type": "execute_result"
    }
   ],
   "source": [
    "X.shape"
   ]
  },
  {
   "cell_type": "code",
   "execution_count": 48,
   "id": "304078dd",
   "metadata": {},
   "outputs": [
    {
     "data": {
      "text/plain": [
       "(569,)"
      ]
     },
     "execution_count": 48,
     "metadata": {},
     "output_type": "execute_result"
    }
   ],
   "source": [
    "y.shape"
   ]
  },
  {
   "cell_type": "code",
   "execution_count": 49,
   "id": "1935fb65",
   "metadata": {},
   "outputs": [],
   "source": [
    "from sklearn.model_selection import train_test_split\n",
    "X_train,X_test,y_train,y_test= train_test_split(X,y,test_size=0.2,random_state=35)"
   ]
  },
  {
   "cell_type": "code",
   "execution_count": 50,
   "id": "6ab52775",
   "metadata": {},
   "outputs": [
    {
     "data": {
      "text/plain": [
       "DecisionTreeClassifier()"
      ]
     },
     "execution_count": 50,
     "metadata": {},
     "output_type": "execute_result"
    }
   ],
   "source": [
    "from sklearn.tree import DecisionTreeClassifier\n",
    "clf = DecisionTreeClassifier()\n",
    "clf.fit(X_train,y_train)"
   ]
  },
  {
   "cell_type": "code",
   "execution_count": 51,
   "id": "6ccc9b22",
   "metadata": {},
   "outputs": [],
   "source": [
    "y_pred = clf.predict(X_test)"
   ]
  },
  {
   "cell_type": "code",
   "execution_count": 52,
   "id": "e45a10e5",
   "metadata": {},
   "outputs": [
    {
     "data": {
      "text/plain": [
       "array([1, 1, 1, 1, 1, 1, 1, 1, 1, 1, 1, 1, 0, 0, 1, 1, 1, 1, 1, 0, 1, 0,\n",
       "       1, 1, 0, 1, 0, 0, 1, 1, 1, 0, 0, 0, 1, 1, 1, 1, 1, 1, 1, 0, 1, 0,\n",
       "       1, 1, 0, 0, 0, 0, 1, 1, 1, 0, 0, 0, 1, 1, 0, 1, 0, 0, 0, 1, 0, 0,\n",
       "       0, 0, 0, 1, 1, 1, 0, 1, 0, 1, 1, 1, 0, 0, 1, 1, 1, 1, 1, 0, 1, 1,\n",
       "       1, 1, 1, 1, 1, 0, 1, 1, 1, 1, 1, 1, 1, 0, 1, 0, 0, 1, 1, 1, 1, 1,\n",
       "       1, 0, 1, 1])"
      ]
     },
     "execution_count": 52,
     "metadata": {},
     "output_type": "execute_result"
    }
   ],
   "source": [
    "y_pred"
   ]
  },
  {
   "cell_type": "code",
   "execution_count": 53,
   "id": "01a8b904",
   "metadata": {},
   "outputs": [
    {
     "name": "stdout",
     "output_type": "stream",
     "text": [
      "Accuracy :  0.9385964912280702\n",
      "confusion mat : \n",
      " [[36  5]\n",
      " [ 2 71]]\n",
      "report : \n",
      "               precision    recall  f1-score   support\n",
      "\n",
      "           0       0.95      0.88      0.91        41\n",
      "           1       0.93      0.97      0.95        73\n",
      "\n",
      "    accuracy                           0.94       114\n",
      "   macro avg       0.94      0.93      0.93       114\n",
      "weighted avg       0.94      0.94      0.94       114\n",
      "\n"
     ]
    }
   ],
   "source": [
    "from sklearn import metrics\n",
    "print('Accuracy : ',metrics.accuracy_score(y_test,y_pred))\n",
    "print('confusion mat : \\n' ,metrics.confusion_matrix(y_test,y_pred))\n",
    "print('report : \\n',metrics.classification_report(y_test,y_pred))"
   ]
  },
  {
   "cell_type": "code",
   "execution_count": 54,
   "id": "92b860cf",
   "metadata": {
    "scrolled": true
   },
   "outputs": [
    {
     "data": {
      "image/png": "[encoded data removed]",
      "text/plain": [
       "<Figure size 1440x1440 with 1 Axes>"
      ]
     },
     "metadata": {
      "needs_background": "light"
     },
     "output_type": "display_data"
    }
   ],
   "source": [
    "from sklearn import tree\n",
    "import matplotlib.pyplot as plt\n",
    "plt.figure(figsize=(20,20))\n",
    "tree.plot_tree(clf)\n",
    "plt.show()"
   ]
  },
  {
   "cell_type": "code",
   "execution_count": null,
   "id": "68c73791",
   "metadata": {},
   "outputs": [],
   "source": [
    "!pip install graphviz\n",
    "!pip install pyparsing\n",
    "!pip install pydotplus"
   ]
  },
  {
   "cell_type": "code",
   "execution_count": null,
   "id": "9d4f181f",
   "metadata": {},
   "outputs": [],
   "source": [
    "from pydotplus import graph_from_dot_data\n",
    "from sklearn.tree import export_graphviz\n",
    "dot_data = export_graphviz(clf, \n",
    "                           filled = True, \n",
    "                           rounded = True, \n",
    "                           class_names=cancer.target_names,\n",
    "                           feature_names = cancer.feature_names)\n",
    "graph = graph_from_dot_data(dot_data)\n",
    "graph.write_png('tree_breastcancer.png')"
   ]
  },
  {
   "cell_type": "code",
   "execution_count": 223,
   "id": "56b0320d",
   "metadata": {},
   "outputs": [
    {
     "name": "stdout",
     "output_type": "stream",
     "text": [
      "Requirement already satisfied: ipython in c:\\python\\python38\\lib\\site-packages (7.29.0)\n",
      "Requirement already satisfied: decorator in c:\\python\\python38\\lib\\site-packages (from ipython) (5.0.9)\n",
      "Requirement already satisfied: traitlets>=4.2 in c:\\python\\python38\\lib\\site-packages (from ipython) (5.1.1)\n",
      "Requirement already satisfied: prompt-toolkit!=3.0.0,!=3.0.1,<3.1.0,>=2.0.0 in c:\\python\\python38\\lib\\site-packages (from ipython) (3.0.22)\n",
      "Requirement already satisfied: pygments in c:\\python\\python38\\lib\\site-packages (from ipython) (2.10.0)\n",
      "Requirement already satisfied: jedi>=0.16 in c:\\python\\python38\\lib\\site-packages (from ipython) (0.18.0)\n",
      "Requirement already satisfied: backcall in c:\\python\\python38\\lib\\site-packages (from ipython) (0.2.0)\n",
      "Requirement already satisfied: matplotlib-inline in c:\\python\\python38\\lib\\site-packages (from ipython) (0.1.2)\n",
      "Requirement already satisfied: pickleshare in c:\\python\\python38\\lib\\site-packages (from ipython) (0.7.5)\n",
      "Requirement already satisfied: setuptools>=18.5 in c:\\python\\python38\\lib\\site-packages (from ipython) (41.2.0)\n",
      "Requirement already satisfied: colorama in c:\\python\\python38\\lib\\site-packages (from ipython) (0.4.4)\n",
      "Requirement already satisfied: parso<0.9.0,>=0.8.0 in c:\\python\\python38\\lib\\site-packages (from jedi>=0.16->ipython) (0.8.2)\n",
      "Requirement already satisfied: wcwidth in c:\\python\\python38\\lib\\site-packages (from prompt-toolkit!=3.0.0,!=3.0.1,<3.1.0,>=2.0.0->ipython) (0.2.5)\n",
      "Note: you may need to restart the kernel to use updated packages.\n"
     ]
    },
    {
     "name": "stderr",
     "output_type": "stream",
     "text": [
      "WARNING: You are using pip version 22.0.4; however, version 22.3 is available.\n",
      "You should consider upgrading via the 'C:\\Python\\Python38\\python.exe -m pip install --upgrade pip' command.\n"
     ]
    }
   ],
   "source": [
    "pip install ipython"
   ]
  },
  {
   "cell_type": "code",
   "execution_count": null,
   "id": "d5fc918d",
   "metadata": {},
   "outputs": [],
   "source": []
  },
  {
   "cell_type": "code",
   "execution_count": null,
   "id": "6eb944d2",
   "metadata": {},
   "outputs": [],
   "source": [
    "from pydotplus import graph_from_dot_data\n",
    "from sklearn.tree import export_graphviz\n",
    "dot_data = export_graphviz(clf, \n",
    "                           filled = True, \n",
    "                           rounded = True, \n",
    "                           class_names=cancer.target_names,\n",
    "                           feature_names = cancer.feature_names)\n",
    "graph = graph_from_dot_data(dot_data)"
   ]
  },
  {
   "cell_type": "code",
   "execution_count": null,
   "id": "e3d23677",
   "metadata": {},
   "outputs": [],
   "source": [
    "graph"
   ]
  },
  {
   "cell_type": "code",
   "execution_count": null,
   "id": "c912d45c",
   "metadata": {},
   "outputs": [],
   "source": [
    "clf_entropy = DecisionTreeClassifier(criterion='entropy')\n",
    "clf_entropy.fit(X_train,y_train)"
   ]
  },
  {
   "cell_type": "code",
   "execution_count": null,
   "id": "f2c4939b",
   "metadata": {},
   "outputs": [],
   "source": [
    "y_prede = clf_entropy.predict(X_test)"
   ]
  },
  {
   "cell_type": "code",
   "execution_count": null,
   "id": "8541b802",
   "metadata": {},
   "outputs": [],
   "source": [
    "from sklearn import metrics\n",
    "print('Accuracy : ',metrics.accuracy_score(y_test,y_prede))\n",
    "print('confusion mat : \\n' ,metrics.confusion_matrix(y_test,y_prede))\n",
    "print('report : \\n',metrics.classification_report(y_test,y_prede))"
   ]
  },
  {
   "cell_type": "raw",
   "id": "dd168589",
   "metadata": {},
   "source": [
    "Accuracy :  0.9210526315789473\n",
    "confusion mat : \n",
    " [[38  3]\n",
    " [ 6 67]]\n",
    "report : \n",
    "               precision    recall  f1-score   support\n",
    "\n",
    "           0       0.86      0.93      0.89        41\n",
    "           1       0.96      0.92      0.94        73\n",
    "\n",
    "    accuracy                           0.92       114\n",
    "   macro avg       0.91      0.92      0.92       114\n",
    "weighted avg       0.92      0.92      0.92       114"
   ]
  },
  {
   "cell_type": "code",
   "execution_count": null,
   "id": "6815d18f",
   "metadata": {},
   "outputs": [],
   "source": [
    "from sklearn import tree\n",
    "import matplotlib.pyplot as plt\n",
    "plt.figure(figsize=(10,10))\n",
    "tree.plot_tree(clf_entropy)\n",
    "plt.show()"
   ]
  },
  {
   "cell_type": "code",
   "execution_count": null,
   "id": "26914058",
   "metadata": {},
   "outputs": [],
   "source": [
    "from pydotplus import graph_from_dot_data\n",
    "from sklearn.tree import export_graphviz\n",
    "dot_data = export_graphviz(clf_entropy, \n",
    "                           filled = True, \n",
    "                           rounded = True, \n",
    "                           class_names=cancer.target_names,\n",
    "                           feature_names = cancer.feature_names)\n",
    "graph = graph_from_dot_data(dot_data)\n",
    "graph.write_png('tree_entropy_breastcancer.png')"
   ]
  },
  {
   "cell_type": "code",
   "execution_count": null,
   "id": "fca1731c",
   "metadata": {},
   "outputs": [],
   "source": []
  },
  {
   "cell_type": "markdown",
   "id": "75f37484",
   "metadata": {},
   "source": [
    "2. wine Quality"
   ]
  },
  {
   "cell_type": "code",
   "execution_count": 238,
   "id": "03dbe8df",
   "metadata": {},
   "outputs": [
    {
     "data": {
      "text/plain": [
       "(178, 13)"
      ]
     },
     "execution_count": 238,
     "metadata": {},
     "output_type": "execute_result"
    }
   ],
   "source": [
    "wine.data.shape"
   ]
  },
  {
   "cell_type": "code",
   "execution_count": 239,
   "id": "e0cc182a",
   "metadata": {},
   "outputs": [],
   "source": [
    "X = wine.data\n",
    "y = wine.target "
   ]
  },
  {
   "cell_type": "code",
   "execution_count": 240,
   "id": "dd02a083",
   "metadata": {},
   "outputs": [
    {
     "data": {
      "text/plain": [
       "(178, 13)"
      ]
     },
     "execution_count": 240,
     "metadata": {},
     "output_type": "execute_result"
    }
   ],
   "source": [
    "X.shape"
   ]
  },
  {
   "cell_type": "code",
   "execution_count": 241,
   "id": "e410f9a9",
   "metadata": {},
   "outputs": [
    {
     "data": {
      "text/plain": [
       "(178,)"
      ]
     },
     "execution_count": 241,
     "metadata": {},
     "output_type": "execute_result"
    }
   ],
   "source": [
    "y.shape"
   ]
  },
  {
   "cell_type": "code",
   "execution_count": 242,
   "id": "e917489c",
   "metadata": {},
   "outputs": [],
   "source": [
    "from sklearn.model_selection import train_test_split\n",
    "X_train,X_test,y_train,y_test= train_test_split(X,y,test_size=0.2,random_state=20)"
   ]
  },
  {
   "cell_type": "code",
   "execution_count": 243,
   "id": "a7d62584",
   "metadata": {},
   "outputs": [
    {
     "data": {
      "text/plain": [
       "DecisionTreeClassifier()"
      ]
     },
     "execution_count": 243,
     "metadata": {},
     "output_type": "execute_result"
    }
   ],
   "source": [
    "from sklearn.tree import DecisionTreeClassifier\n",
    "clf = DecisionTreeClassifier()\n",
    "clf.fit(X_train,y_train)"
   ]
  },
  {
   "cell_type": "code",
   "execution_count": 244,
   "id": "2be7160a",
   "metadata": {},
   "outputs": [],
   "source": [
    "y_pred = clf.predict(X_test)"
   ]
  },
  {
   "cell_type": "code",
   "execution_count": 245,
   "id": "b240b058",
   "metadata": {},
   "outputs": [
    {
     "data": {
      "text/plain": [
       "array([1, 2, 0, 1, 2, 1, 2, 1, 1, 2, 0, 2, 1, 1, 0, 1, 1, 0, 0, 2, 2, 0,\n",
       "       1, 0, 2, 1, 0, 2, 1, 1, 1, 1, 2, 1, 0, 0])"
      ]
     },
     "execution_count": 245,
     "metadata": {},
     "output_type": "execute_result"
    }
   ],
   "source": [
    "y_pred"
   ]
  },
  {
   "cell_type": "code",
   "execution_count": 246,
   "id": "9ca84b64",
   "metadata": {},
   "outputs": [
    {
     "name": "stdout",
     "output_type": "stream",
     "text": [
      "Accuracy :  0.9722222222222222\n",
      "confusion mat : \n",
      " [[10  0  0]\n",
      " [ 0 16  1]\n",
      " [ 0  0  9]]\n",
      "report : \n",
      "               precision    recall  f1-score   support\n",
      "\n",
      "           0       1.00      1.00      1.00        10\n",
      "           1       1.00      0.94      0.97        17\n",
      "           2       0.90      1.00      0.95         9\n",
      "\n",
      "    accuracy                           0.97        36\n",
      "   macro avg       0.97      0.98      0.97        36\n",
      "weighted avg       0.98      0.97      0.97        36\n",
      "\n"
     ]
    }
   ],
   "source": [
    "from sklearn import metrics\n",
    "print('Accuracy : ',metrics.accuracy_score(y_test,y_pred))\n",
    "print('confusion mat : \\n' ,metrics.confusion_matrix(y_test,y_pred))\n",
    "print('report : \\n',metrics.classification_report(y_test,y_pred))"
   ]
  },
  {
   "cell_type": "code",
   "execution_count": 247,
   "id": "0e67380b",
   "metadata": {},
   "outputs": [
    {
     "data": {
      "image/png": "[encoded data removed]",
      "text/plain": [
       "<Figure size 1440x1440 with 1 Axes>"
      ]
     },
     "metadata": {
      "needs_background": "light"
     },
     "output_type": "display_data"
    }
   ],
   "source": [
    "from sklearn import tree\n",
    "import matplotlib.pyplot as plt\n",
    "plt.figure(figsize=(20,20))\n",
    "tree.plot_tree(clf)\n",
    "plt.show()"
   ]
  },
  {
   "cell_type": "code",
   "execution_count": null,
   "id": "779b2b29",
   "metadata": {},
   "outputs": [],
   "source": [
    "from pydotplus import graph_from_dot_data\n",
    "from sklearn.tree import export_graphviz\n",
    "dot_data = export_graphviz(clf, \n",
    "                           filled = True, \n",
    "                           rounded = True, \n",
    "                           class_names=wine.target_names,\n",
    "                           feature_names = wine.feature_names)\n",
    "graph = graph_from_dot_data(dot_data)\n",
    "graph.write_png('tree_wine.png')"
   ]
  },
  {
   "cell_type": "code",
   "execution_count": null,
   "id": "7bb95aab",
   "metadata": {},
   "outputs": [],
   "source": [
    "from pydotplus import graph_from_dot_data\n",
    "from sklearn.tree import export_graphviz\n",
    "dot_data = export_graphviz(clf, \n",
    "                           filled = True, \n",
    "                           rounded = True, \n",
    "                           class_names=wine.target_names,\n",
    "                           feature_names = wine.feature_names)\n",
    "graph = graph_from_dot_data(dot_data)\n"
   ]
  },
  {
   "cell_type": "code",
   "execution_count": null,
   "id": "4ab9ca68",
   "metadata": {},
   "outputs": [],
   "source": [
    "graph"
   ]
  },
  {
   "cell_type": "code",
   "execution_count": null,
   "id": "50e4334c",
   "metadata": {},
   "outputs": [],
   "source": [
    "clf_entropy = DecisionTreeClassifier(criterion='entropy')\n",
    "clf_entropy.fit(X_train,y_train)"
   ]
  },
  {
   "cell_type": "code",
   "execution_count": null,
   "id": "c9612929",
   "metadata": {},
   "outputs": [],
   "source": [
    "y_prede = clf_entropy.predict(X_test)"
   ]
  },
  {
   "cell_type": "code",
   "execution_count": null,
   "id": "76d58b5b",
   "metadata": {},
   "outputs": [],
   "source": [
    "from sklearn import metrics\n",
    "print('Accuracy : ',metrics.accuracy_score(y_test,y_prede))\n",
    "print('confusion mat : \\n' ,metrics.confusion_matrix(y_test,y_prede))\n",
    "print('report : \\n',metrics.classification_report(y_test,y_prede))"
   ]
  },
  {
   "cell_type": "raw",
   "id": "bb964e17",
   "metadata": {},
   "source": [
    "Accuracy :  0.8611111111111112\n",
    "confusion mat : \n",
    " [[11  1  0]\n",
    " [ 2 11  1]\n",
    " [ 0  1  9]]\n",
    "report : \n",
    "               precision    recall  f1-score   support\n",
    "\n",
    "           0       0.85      0.92      0.88        12\n",
    "           1       0.85      0.79      0.81        14\n",
    "           2       0.90      0.90      0.90        10\n",
    "\n",
    "    accuracy                           0.86        36\n",
    "   macro avg       0.86      0.87      0.86        36\n",
    "weighted avg       0.86      0.86      0.86        36"
   ]
  },
  {
   "cell_type": "code",
   "execution_count": null,
   "id": "df068e80",
   "metadata": {},
   "outputs": [],
   "source": [
    "from sklearn import tree\n",
    "import matplotlib.pyplot as plt\n",
    "plt.figure(figsize=(10,10))\n",
    "tree.plot_tree(clf_entropy)\n",
    "plt.show()"
   ]
  },
  {
   "cell_type": "code",
   "execution_count": null,
   "id": "13617c95",
   "metadata": {},
   "outputs": [],
   "source": [
    "from pydotplus import graph_from_dot_data\n",
    "from sklearn.tree import export_graphviz\n",
    "dot_data = export_graphviz(clf_entropy, \n",
    "                           filled = True, \n",
    "                           rounded = True, \n",
    "                           class_names=wine.target_names,\n",
    "                           feature_names = wine.feature_names)\n",
    "graph = graph_from_dot_data(dot_data)\n",
    "graph.write_png('tree_wine_entropy.png')"
   ]
  }
 ],
 "metadata": {
  "kernelspec": {
   "display_name": "Python 3",
   "language": "python",
   "name": "python3"
  },
  "language_info": {
   "codemirror_mode": {
    "name": "ipython",
    "version": 3
   },
   "file_extension": ".py",
   "mimetype": "text/x-python",
   "name": "python",
   "nbconvert_exporter": "python",
   "pygments_lexer": "ipython3",
   "version": "3.8.2"
  }
 },
 "nbformat": 4,
 "nbformat_minor": 5
}
